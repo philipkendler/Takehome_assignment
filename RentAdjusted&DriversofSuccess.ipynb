{
 "cells": [
  {
   "cell_type": "code",
   "execution_count": 130,
   "metadata": {},
   "outputs": [],
   "source": [
    "import pandas as pd\n",
    "pd.__version__\n",
    "from pandas import DataFrame\n",
    "import matplotlib.pyplot as plt\n",
    "import numpy as np"
   ]
  },
  {
   "cell_type": "code",
   "execution_count": 131,
   "metadata": {},
   "outputs": [],
   "source": [
    "data = pd.read_csv('summer_internship_takehome.csv')\n",
    "data2 = data"
   ]
  },
  {
   "cell_type": "code",
   "execution_count": 132,
   "metadata": {},
   "outputs": [],
   "source": [
    "rent_adjusted = pd.DataFrame(columns=['State', 'Owned', 'Adjusted profit margin'])\n",
    "percent_adjusted = pd.DataFrame(columns=['Rent adjusted profit margin %'])\n",
    "rent_adjusted_by_type = pd.DataFrame(columns=['Type', 'Average adjusted profit margin'])\n",
    "rent_adjusted_by_state = pd.DataFrame(columns=['State', 'Average adjusted profit margin'])"
   ]
  },
  {
   "cell_type": "code",
   "execution_count": 133,
   "metadata": {},
   "outputs": [
    {
     "name": "stderr",
     "output_type": "stream",
     "text": [
      "/Users/philipkendler/opt/anaconda3/lib/python3.7/site-packages/ipykernel_launcher.py:53: SettingWithCopyWarning: \n",
      "A value is trying to be set on a copy of a slice from a DataFrame\n",
      "\n",
      "See the caveats in the documentation: https://pandas.pydata.org/pandas-docs/stable/user_guide/indexing.html#returning-a-view-versus-a-copy\n",
      "/Users/philipkendler/opt/anaconda3/lib/python3.7/site-packages/ipykernel_launcher.py:51: SettingWithCopyWarning: \n",
      "A value is trying to be set on a copy of a slice from a DataFrame\n",
      "\n",
      "See the caveats in the documentation: https://pandas.pydata.org/pandas-docs/stable/user_guide/indexing.html#returning-a-view-versus-a-copy\n",
      "/Users/philipkendler/opt/anaconda3/lib/python3.7/site-packages/ipykernel_launcher.py:49: SettingWithCopyWarning: \n",
      "A value is trying to be set on a copy of a slice from a DataFrame\n",
      "\n",
      "See the caveats in the documentation: https://pandas.pydata.org/pandas-docs/stable/user_guide/indexing.html#returning-a-view-versus-a-copy\n",
      "/Users/philipkendler/opt/anaconda3/lib/python3.7/site-packages/ipykernel_launcher.py:57: SettingWithCopyWarning: \n",
      "A value is trying to be set on a copy of a slice from a DataFrame\n",
      "\n",
      "See the caveats in the documentation: https://pandas.pydata.org/pandas-docs/stable/user_guide/indexing.html#returning-a-view-versus-a-copy\n",
      "/Users/philipkendler/opt/anaconda3/lib/python3.7/site-packages/ipykernel_launcher.py:55: SettingWithCopyWarning: \n",
      "A value is trying to be set on a copy of a slice from a DataFrame\n",
      "\n",
      "See the caveats in the documentation: https://pandas.pydata.org/pandas-docs/stable/user_guide/indexing.html#returning-a-view-versus-a-copy\n",
      "/Users/philipkendler/opt/anaconda3/lib/python3.7/site-packages/ipykernel_launcher.py:59: SettingWithCopyWarning: \n",
      "A value is trying to be set on a copy of a slice from a DataFrame\n",
      "\n",
      "See the caveats in the documentation: https://pandas.pydata.org/pandas-docs/stable/user_guide/indexing.html#returning-a-view-versus-a-copy\n",
      "/Users/philipkendler/opt/anaconda3/lib/python3.7/site-packages/ipykernel_launcher.py:61: SettingWithCopyWarning: \n",
      "A value is trying to be set on a copy of a slice from a DataFrame\n",
      "\n",
      "See the caveats in the documentation: https://pandas.pydata.org/pandas-docs/stable/user_guide/indexing.html#returning-a-view-versus-a-copy\n"
     ]
    },
    {
     "data": {
      "text/plain": [
       "array([[<matplotlib.axes._subplots.AxesSubplot object at 0x11a029310>]],\n",
       "      dtype=object)"
      ]
     },
     "execution_count": 133,
     "metadata": {},
     "output_type": "execute_result"
    },
    {
     "data": {
      "image/png": "[encoded data removed]",
      "text/plain": [
       "<Figure size 432x288 with 1 Axes>"
      ]
     },
     "metadata": {
      "needs_background": "light"
     },
     "output_type": "display_data"
    }
   ],
   "source": [
    "TX_rent = 0\n",
    "TX_count = 0\n",
    "CA_rent = 0\n",
    "CA_count = 0\n",
    "IL_rent = 0\n",
    "IL_count = 0\n",
    "GA_rent = 0\n",
    "GA_count = 0\n",
    "NJ_rent = 0\n",
    "NJ_count = 0\n",
    "CO_rent = 0\n",
    "CO_count = 0\n",
    "WA_rent = 0\n",
    "WA_count = 0\n",
    "for i in data.index:\n",
    "    if data.at[i, 'Rental cost'] > 0:\n",
    "        if data.at[i, 'State'] == 'TX':\n",
    "            TX_rent += data.at[i, 'Rental cost']\n",
    "            TX_count += 1\n",
    "        elif data.at[i, 'State'] == 'CA':\n",
    "            CA_rent += data.at[i, 'Rental cost']\n",
    "            CA_count += 1\n",
    "        elif data.at[i, 'State'] == 'IL':\n",
    "            IL_rent += data.at[i, 'Rental cost']\n",
    "            IL_count += 1\n",
    "        elif data.at[i, 'State'] == 'GA':\n",
    "            GA_rent += data.at[i, 'Rental cost']\n",
    "            GA_count += 1\n",
    "        elif data.at[i, 'State'] == 'NJ':\n",
    "            NJ_rent += data.at[i, 'Rental cost']\n",
    "            NJ_count += 1\n",
    "        elif data.at[i, 'State'] == 'CO':\n",
    "            CO_rent += data.at[i, 'Rental cost']\n",
    "            CO_count += 1\n",
    "        else:\n",
    "            WA_rent += data.at[i, 'Rental cost']\n",
    "            WA_count += 1\n",
    "TX_avg_rent = TX_rent / TX_count\n",
    "CA_avg_rent = CA_rent / CA_count\n",
    "IL_avg_rent = IL_rent / IL_count\n",
    "GA_avg_rent = GA_rent / GA_count\n",
    "NJ_avg_rent = NJ_rent / NJ_count\n",
    "CO_avg_rent = CO_rent / CO_count\n",
    "WA_avg_rent = WA_rent / WA_count\n",
    "\n",
    "for i in data2.index:\n",
    "    if data2.at[i, 'Rental cost'] == 0:\n",
    "        if data2.at[i, 'State'] == 'TX':\n",
    "            data2['Rental cost'][i] += TX_avg_rent\n",
    "        elif data2.at[i, 'State'] == 'CA':\n",
    "            data2['Rental cost'][i] += CA_avg_rent\n",
    "        elif data2.at[i, 'State'] == 'IL':\n",
    "            data2['Rental cost'][i] += IL_avg_rent\n",
    "        elif data2.at[i, 'State'] == 'GA':\n",
    "            data2['Rental cost'][i] += GA_avg_rent\n",
    "        elif data2.at[i, 'State'] == 'NJ':\n",
    "            data2['Rental cost'][i] += NJ_avg_rent\n",
    "        elif data2.at[i, 'State'] == 'CO':\n",
    "            data2['Rental cost'][i] += CO_avg_rent\n",
    "        else:\n",
    "            data2['Rental cost'][i] += WA_avg_rent\n",
    "for i in data2.index:\n",
    "    if i % 12 == 0:\n",
    "        revenue = data2.at[i, 'Gross revenue']\n",
    "        costs = (data2.at[i, 'Fixed cost'] + data2.at[i, 'Variable cost'] + data2.at[i, 'Rental cost'])\n",
    "        state = data.at[i, 'State']\n",
    "        owned = data.at[i, 'Owned']\n",
    "    else:\n",
    "        revenue += data2.at[i, 'Gross revenue']\n",
    "        costs += (data2.at[i, 'Fixed cost'] + data2.at[i, 'Variable cost'] + data2.at[i, 'Rental cost'])\n",
    "    if i % 12 == 11:\n",
    "        adjusted_profit_margin = (revenue - costs) / revenue\n",
    "        rent_adjusted = rent_adjusted.append({'State': state, 'Owned': owned,'Adjusted profit margin': adjusted_profit_margin}, ignore_index=True)\n",
    "        rent_adjusted.sort_values(by=['Adjusted profit margin'], inplace = True)\n",
    "for i in rent_adjusted.index:\n",
    "    percent_adjusted = percent_adjusted.append({'Rent adjusted profit margin %': (rent_adjusted.at[i, 'Adjusted profit margin']) * 100,}, ignore_index = True)\n",
    "percent_adjusted.hist()"
   ]
  },
  {
   "cell_type": "code",
   "execution_count": 134,
   "metadata": {},
   "outputs": [
    {
     "data": {
      "text/plain": [
       "<matplotlib.axes._subplots.AxesSubplot at 0x11b62c5d0>"
      ]
     },
     "execution_count": 134,
     "metadata": {},
     "output_type": "execute_result"
    },
    {
     "data": {
      "image/png": "[encoded data removed]",
      "text/plain": [
       "<Figure size 432x288 with 1 Axes>"
      ]
     },
     "metadata": {
      "needs_background": "light"
     },
     "output_type": "display_data"
    }
   ],
   "source": [
    "profit_owned = 0\n",
    "profit_leased = 0\n",
    "owned_count = 0\n",
    "leased_count = 0\n",
    "for i in rent_adjusted.index:\n",
    "    if rent_adjusted.at[i, 'Owned'] == True:\n",
    "        owned_count += 1\n",
    "        profit_owned += rent_adjusted.at[i, 'Adjusted profit margin']\n",
    "    else:\n",
    "        leased_count += 1\n",
    "        profit_leased += rent_adjusted.at[i, 'Adjusted profit margin']\n",
    "average_profit_owned = profit_owned / owned_count\n",
    "average_profit_leased = profit_leased / leased_count\n",
    "\n",
    "rent_adjusted_by_type = rent_adjusted_by_type.append({'Type': 'OWNED', 'Average adjusted profit margin': average_profit_owned}, ignore_index = True)\n",
    "rent_adjusted_by_type = rent_adjusted_by_type.append({'Type': 'LEASED', 'Average adjusted profit margin': average_profit_leased}, ignore_index = True)\n",
    "rent_adjusted_by_type.plot(x='Type', y='Average adjusted profit margin', kind = 'bar')\n",
    "\n",
    "\n",
    "    "
   ]
  },
  {
   "cell_type": "code",
   "execution_count": null,
   "metadata": {},
   "outputs": [],
   "source": []
  },
  {
   "cell_type": "code",
   "execution_count": null,
   "metadata": {},
   "outputs": [],
   "source": []
  },
  {
   "cell_type": "code",
   "execution_count": 129,
   "metadata": {},
   "outputs": [
    {
     "data": {
      "text/plain": [
       "<matplotlib.axes._subplots.AxesSubplot at 0x11b11fb90>"
      ]
     },
     "execution_count": 129,
     "metadata": {},
     "output_type": "execute_result"
    },
    {
     "data": {
      "image/png": "[encoded data removed]",
      "text/plain": [
       "<Figure size 432x288 with 1 Axes>"
      ]
     },
     "metadata": {
      "needs_background": "light"
     },
     "output_type": "display_data"
    }
   ],
   "source": [
    "TX_profit = 0\n",
    "CA_profit = 0\n",
    "IL_profit = 0\n",
    "GA_profit = 0\n",
    "NJ_profit = 0\n",
    "CO_profit = 0\n",
    "WA_profit = 0\n",
    "TX_count = 0\n",
    "CA_count = 0\n",
    "IL_count = 0\n",
    "GA_count = 0\n",
    "NJ_count = 0\n",
    "CO_count = 0\n",
    "WA_count = 0\n",
    "for i in rent_adjusted.index:        \n",
    "    if rent_adjusted.at[i, 'State'] == 'TX':\n",
    "        TX_profit += rent_adjusted.at[i, 'Adjusted profit margin']\n",
    "        TX_count += 1\n",
    "    elif rent_adjusted.at[i, 'State'] == 'CA':\n",
    "        CA_profit += rent_adjusted.at[i, 'Adjusted profit margin']\n",
    "        CA_count += 1\n",
    "    elif rent_adjusted.at[i, 'State'] == 'IL':\n",
    "        IL_profit += rent_adjusted.at[i, 'Adjusted profit margin']\n",
    "        IL_count += 1\n",
    "    elif rent_adjusted.at[i, 'State'] == 'GA':\n",
    "        GA_profit += rent_adjusted.at[i, 'Adjusted profit margin']\n",
    "        GA_count += 1\n",
    "    elif rent_adjusted.at[i, 'State'] == 'NJ':\n",
    "        NJ_profit += rent_adjusted.at[i, 'Adjusted profit margin']\n",
    "        NJ_count += 1\n",
    "    elif rent_adjusted.at[i, 'State'] == 'CO':\n",
    "        CO_profit += rent_adjusted.at[i, 'Adjusted profit margin']\n",
    "        CO_count += 1\n",
    "    elif rent_adjusted.at[i, 'State'] == 'WA':\n",
    "        WA_profit += rent_adjusted.at[i, 'Adjusted profit margin']\n",
    "        WA_count += 1\n",
    "TX_average_profit = TX_profit / TX_count\n",
    "CA_average_profit = CA_profit / CA_count\n",
    "IL_average_profit = IL_profit / IL_count\n",
    "GA_average_profit = GA_profit / GA_count\n",
    "NJ_average_profit = NJ_profit / NJ_count\n",
    "CO_average_profit = CO_profit / CO_count\n",
    "WA_average_profit = WA_profit / WA_count\n",
    "\n",
    "\n",
    "rent_adjusted_by_state = rent_adjusted_by_state.append({'State': 'TX', 'Average adjusted profit margin': TX_average_profit}, ignore_index = True)\n",
    "rent_adjusted_by_state = rent_adjusted_by_state.append({'State': 'CA', 'Average adjusted profit margin': CA_average_profit}, ignore_index = True)\n",
    "rent_adjusted_by_state = rent_adjusted_by_state.append({'State': 'IL', 'Average adjusted profit margin': IL_average_profit}, ignore_index = True)\n",
    "rent_adjusted_by_state = rent_adjusted_by_state.append({'State': 'GA', 'Average adjusted profit margin': GA_average_profit}, ignore_index = True)\n",
    "rent_adjusted_by_state = rent_adjusted_by_state.append({'State': 'NJ', 'Average adjusted profit margin': NJ_average_profit}, ignore_index = True)\n",
    "rent_adjusted_by_state = rent_adjusted_by_state.append({'State': 'CO', 'Average adjusted profit margin': CO_average_profit}, ignore_index = True)\n",
    "rent_adjusted_by_state = rent_adjusted_by_state.append({'State': 'WA', 'Average adjusted profit margin': WA_average_profit}, ignore_index = True)\n",
    "\n",
    "rent_adjusted_by_state.plot(x='State', y='Average adjusted profit margin', kind = 'bar')\n"
   ]
  },
  {
   "cell_type": "code",
   "execution_count": null,
   "metadata": {},
   "outputs": [],
   "source": []
  },
  {
   "cell_type": "code",
   "execution_count": null,
   "metadata": {},
   "outputs": [],
   "source": []
  }
 ],
 "metadata": {
  "kernelspec": {
   "display_name": "Python 3",
   "language": "python",
   "name": "python3"
  },
  "language_info": {
   "codemirror_mode": {
    "name": "ipython",
    "version": 3
   },
   "file_extension": ".py",
   "mimetype": "text/x-python",
   "name": "python",
   "nbconvert_exporter": "python",
   "pygments_lexer": "ipython3",
   "version": "3.7.6"
  }
 },
 "nbformat": 4,
 "nbformat_minor": 4
}
