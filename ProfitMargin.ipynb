{
 "cells": [
  {
   "cell_type": "code",
   "execution_count": 639,
   "metadata": {},
   "outputs": [],
   "source": [
    "import pandas as pd\n",
    "pandas.__version__\n",
    "from pandas import DataFrame\n",
    "import matplotlib.pyplot as plt\n",
    "import numpy as np"
   ]
  },
  {
   "cell_type": "code",
   "execution_count": 640,
   "metadata": {},
   "outputs": [],
   "source": [
    "data = pd.read_csv('TakehomeAssignment/summer_internship_takehome.csv')\n",
    "data2 = data"
   ]
  },
  {
   "cell_type": "code",
   "execution_count": 641,
   "metadata": {},
   "outputs": [],
   "source": [
    "annual = pd.DataFrame(columns=['State', 'Owned', 'Profit margin'])\n",
    "percent = pd.DataFrame(columns=['Profit margin %'])"
   ]
  },
  {
   "cell_type": "code",
   "execution_count": 642,
   "metadata": {},
   "outputs": [],
   "source": [
    "for i in data.index:\n",
    "    if i % 12 == 0:\n",
    "        location_number = data.at[i, 'Location number']\n",
    "        state = data.at[i, 'State']\n",
    "        owned = data.at[i, 'Owned']\n",
    "        revenue = data.at[i, 'Gross revenue']\n",
    "        costs = (data.at[i, 'Fixed cost'] + data.at[i, 'Variable cost'] + data.at[i, 'Rental cost'])\n",
    "    else:\n",
    "        revenue += data.at[i, 'Gross revenue']\n",
    "        costs += (data.at[i, 'Fixed cost'] + data.at[i, 'Variable cost'] + data.at[i, 'Rental cost'])\n",
    "        if i % 12 == 11:\n",
    "            profit_margin = (revenue - costs) / revenue\n",
    "            annual = annual.append({'State': state, 'Owned': owned, 'Profit margin': profit_margin}, ignore_index=True)\n",
    "            annual.sort_values(by=['Profit margin'], inplace = True)\n",
    "\n",
    "\n",
    "        \n",
    "        "
   ]
  },
  {
   "cell_type": "code",
   "execution_count": 643,
   "metadata": {},
   "outputs": [
    {
     "data": {
      "text/plain": [
       "0.24863229256707528"
      ]
     },
     "execution_count": 643,
     "metadata": {},
     "output_type": "execute_result"
    }
   ],
   "source": [
    "total_profit = 0\n",
    "for i in annual.index:\n",
    "    profit = annual.at[i, 'Profit margin']\n",
    "    total_profit += profit\n",
    "    \n",
    "mean_profit = (total_profit / len(annual))\n",
    "mean_profit\n"
   ]
  },
  {
   "cell_type": "code",
   "execution_count": 644,
   "metadata": {},
   "outputs": [
    {
     "data": {
      "text/plain": [
       "0.26184928404393776"
      ]
     },
     "execution_count": 644,
     "metadata": {},
     "output_type": "execute_result"
    }
   ],
   "source": [
    "median_loc = ((len(annual) - 1) // 2)\n",
    "median_loc\n",
    "if median_loc % 1 != 0:\n",
    "    median_loc1 = int(median_loc - .5)\n",
    "    median_loc2 = int(median_loc +.5)\n",
    "    median_profit = (annual.at[median_loc1, 'Profit margin'] + annual.at[median_loc2, 'Profit margin']) / 2\n",
    "else:\n",
    "    median_profit = annual.at[median_loc, 'Profit margin']\n",
    "median_profit"
   ]
  },
  {
   "cell_type": "code",
   "execution_count": 645,
   "metadata": {},
   "outputs": [
    {
     "data": {
      "text/plain": [
       "array([[<matplotlib.axes._subplots.AxesSubplot object at 0x127531110>]],\n",
       "      dtype=object)"
      ]
     },
     "execution_count": 645,
     "metadata": {},
     "output_type": "execute_result"
    },
    {
     "data": {
      "image/png": "[encoded data removed]",
      "text/plain": [
       "<Figure size 432x288 with 1 Axes>"
      ]
     },
     "metadata": {
      "needs_background": "light"
     },
     "output_type": "display_data"
    }
   ],
   "source": [
    "for i in annual.index:\n",
    "    percent = percent.append({'Profit margin %': (annual.at[i, 'Profit margin']) * 100,}, ignore_index = True)\n",
    "percent.hist()\n",
    "\n",
    "    \n",
    "    "
   ]
  },
  {
   "cell_type": "code",
   "execution_count": null,
   "metadata": {},
   "outputs": [],
   "source": []
  }
 ],
 "metadata": {
  "kernelspec": {
   "display_name": "Python 3",
   "language": "python",
   "name": "python3"
  },
  "language_info": {
   "codemirror_mode": {
    "name": "ipython",
    "version": 3
   },
   "file_extension": ".py",
   "mimetype": "text/x-python",
   "name": "python",
   "nbconvert_exporter": "python",
   "pygments_lexer": "ipython3",
   "version": "3.7.6"
  }
 },
 "nbformat": 4,
 "nbformat_minor": 4
}
